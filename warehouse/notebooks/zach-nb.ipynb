{
 "cells": [
  {
   "cell_type": "code",
   "execution_count": 1,
   "metadata": {},
   "outputs": [],
   "source": [
    "%load_ext autoreload\n",
    "%autoreload 2"
   ]
  },
  {
   "cell_type": "code",
   "execution_count": 2,
   "metadata": {},
   "outputs": [],
   "source": [
    "REPO_NAME = 'sewer-nfl'\n",
    "import sys, os\n",
    "cwd = str(os.getcwd())\n",
    "repo_dir = cwd[:cwd.find(REPO_NAME)+len(REPO_NAME)]\n",
    "sys.path.insert(0,repo_dir)"
   ]
  },
  {
   "cell_type": "code",
   "execution_count": 3,
   "metadata": {},
   "outputs": [],
   "source": [
    "import pandas as pd\n",
    "import nfl_data_py as nflreadr"
   ]
  },
  {
   "cell_type": "code",
   "execution_count": 4,
   "metadata": {},
   "outputs": [],
   "source": [
    "from warehouse.utilities.elo import calculate_elo_metric"
   ]
  },
  {
   "cell_type": "code",
   "execution_count": 5,
   "metadata": {},
   "outputs": [
    {
     "name": "stdout",
     "output_type": "stream",
     "text": [
      "2021 done.\n",
      "2022 done.\n",
      "Downcasting floats.\n"
     ]
    }
   ],
   "source": [
    "api_data = nflreadr.import_pbp_data(range(2021,2023))"
   ]
  },
  {
   "cell_type": "code",
   "execution_count": 6,
   "metadata": {},
   "outputs": [],
   "source": [
    "api_data = api_data[api_data['week']<=18]"
   ]
  },
  {
   "cell_type": "code",
   "execution_count": 7,
   "metadata": {},
   "outputs": [],
   "source": [
    "from warehouse.pipelines.pbp.involvement import player_involvement, player_involved, players_involved"
   ]
  },
  {
   "cell_type": "code",
   "execution_count": 8,
   "metadata": {},
   "outputs": [],
   "source": [
    "player_involvement_df = player_involvement(pbp_data=api_data)"
   ]
  },
  {
   "cell_type": "code",
   "execution_count": 9,
   "metadata": {},
   "outputs": [
    {
     "ename": "TypeError",
     "evalue": "player_involved() missing 2 required positional arguments: 'play_id' and 'game_id'",
     "output_type": "error",
     "traceback": [
      "\u001b[1;31m---------------------------------------------------------------------------\u001b[0m",
      "\u001b[1;31mTypeError\u001b[0m                                 Traceback (most recent call last)",
      "Cell \u001b[1;32mIn[9], line 1\u001b[0m\n\u001b[1;32m----> 1\u001b[0m player_involved(player_involvement_df\u001b[39m=\u001b[39;49mplayer_involvement_df,\n\u001b[0;32m      2\u001b[0m                 \u001b[39m#play_id = 40.0,\u001b[39;49;00m\n\u001b[0;32m      3\u001b[0m                 \u001b[39m#game_id = '2021_01_ARI_TEN',\u001b[39;49;00m\n\u001b[0;32m      4\u001b[0m                 player_id \u001b[39m=\u001b[39;49m \u001b[39m'\u001b[39;49m\u001b[39m00-0032560\u001b[39;49m\u001b[39m'\u001b[39;49m)\n",
      "\u001b[1;31mTypeError\u001b[0m: player_involved() missing 2 required positional arguments: 'play_id' and 'game_id'"
     ]
    }
   ],
   "source": [
    "player_involved(player_involvement_df=player_involvement_df,\n",
    "                #play_id = 40.0,\n",
    "                #game_id = '2021_01_ARI_TEN',\n",
    "                player_id = '00-0032560')"
   ]
  },
  {
   "cell_type": "code",
   "execution_count": 10,
   "metadata": {},
   "outputs": [],
   "source": [
    "meta_columns = [\n",
    "    'game_id',\n",
    "    'old_game_id',\n",
    "    'season',\n",
    "    'week',\n",
    "    'home_team',\n",
    "    'away_team',\n",
    "    'posteam',\n",
    "    'spread_line'\n",
    "]\n",
    "\n",
    "play_columns = [\n",
    "    'play_id',\n",
    "    'play_type',\n",
    "    'desc',\n",
    "    'yards_gained',\n",
    "    'passer_player_id',\n",
    "    'receiver_player_id',\n",
    "    'rusher_player_id',\n",
    "    'offense_players',\n",
    "    'defense_players'\n",
    "]\n",
    "\n",
    "epa_columns = [\n",
    "    'epa',\n",
    "    'air_epa',\n",
    "    'yac_epa'\n",
    "]"
   ]
  },
  {
   "cell_type": "code",
   "execution_count": 11,
   "metadata": {},
   "outputs": [],
   "source": [
    "# Player Id Lookup function\n",
    "rosters = nflreadr.import_rosters(years=[2020,2022])"
   ]
  },
  {
   "cell_type": "code",
   "execution_count": 12,
   "metadata": {},
   "outputs": [
    {
     "data": {
      "text/html": [
       "<div>\n",
       "<style scoped>\n",
       "    .dataframe tbody tr th:only-of-type {\n",
       "        vertical-align: middle;\n",
       "    }\n",
       "\n",
       "    .dataframe tbody tr th {\n",
       "        vertical-align: top;\n",
       "    }\n",
       "\n",
       "    .dataframe thead th {\n",
       "        text-align: right;\n",
       "    }\n",
       "</style>\n",
       "<table border=\"1\" class=\"dataframe\">\n",
       "  <thead>\n",
       "    <tr style=\"text-align: right;\">\n",
       "      <th></th>\n",
       "      <th>season</th>\n",
       "      <th>week</th>\n",
       "      <th>team</th>\n",
       "      <th>position</th>\n",
       "      <th>player_name</th>\n",
       "      <th>player_id</th>\n",
       "    </tr>\n",
       "  </thead>\n",
       "  <tbody>\n",
       "    <tr>\n",
       "      <th>0</th>\n",
       "      <td>2020</td>\n",
       "      <td>17</td>\n",
       "      <td>ARI</td>\n",
       "      <td>DB</td>\n",
       "      <td>Johnathan Joseph</td>\n",
       "      <td>00-0024239</td>\n",
       "    </tr>\n",
       "    <tr>\n",
       "      <th>1</th>\n",
       "      <td>2020</td>\n",
       "      <td>17</td>\n",
       "      <td>ARI</td>\n",
       "      <td>DB</td>\n",
       "      <td>Patrick Peterson</td>\n",
       "      <td>00-0027943</td>\n",
       "    </tr>\n",
       "    <tr>\n",
       "      <th>2</th>\n",
       "      <td>2020</td>\n",
       "      <td>17</td>\n",
       "      <td>ARI</td>\n",
       "      <td>DB</td>\n",
       "      <td>Prince Amukamara</td>\n",
       "      <td>00-0027957</td>\n",
       "    </tr>\n",
       "    <tr>\n",
       "      <th>3</th>\n",
       "      <td>2020</td>\n",
       "      <td>17</td>\n",
       "      <td>ARI</td>\n",
       "      <td>DB</td>\n",
       "      <td>Dre Kirkpatrick</td>\n",
       "      <td>00-0029560</td>\n",
       "    </tr>\n",
       "    <tr>\n",
       "      <th>4</th>\n",
       "      <td>2020</td>\n",
       "      <td>17</td>\n",
       "      <td>ARI</td>\n",
       "      <td>DB</td>\n",
       "      <td>Chris Banjo</td>\n",
       "      <td>00-0029747</td>\n",
       "    </tr>\n",
       "    <tr>\n",
       "      <th>...</th>\n",
       "      <td>...</td>\n",
       "      <td>...</td>\n",
       "      <td>...</td>\n",
       "      <td>...</td>\n",
       "      <td>...</td>\n",
       "      <td>...</td>\n",
       "    </tr>\n",
       "    <tr>\n",
       "      <th>2636</th>\n",
       "      <td>2022</td>\n",
       "      <td>18</td>\n",
       "      <td>WAS</td>\n",
       "      <td>WR</td>\n",
       "      <td>Antonio Gandy-Golden</td>\n",
       "      <td>00-0036340</td>\n",
       "    </tr>\n",
       "    <tr>\n",
       "      <th>2637</th>\n",
       "      <td>2022</td>\n",
       "      <td>18</td>\n",
       "      <td>WAS</td>\n",
       "      <td>WR</td>\n",
       "      <td>Dyami Brown</td>\n",
       "      <td>00-0036626</td>\n",
       "    </tr>\n",
       "    <tr>\n",
       "      <th>2638</th>\n",
       "      <td>2022</td>\n",
       "      <td>18</td>\n",
       "      <td>WAS</td>\n",
       "      <td>WR</td>\n",
       "      <td>Dax Milne</td>\n",
       "      <td>00-0036671</td>\n",
       "    </tr>\n",
       "    <tr>\n",
       "      <th>2639</th>\n",
       "      <td>2022</td>\n",
       "      <td>18</td>\n",
       "      <td>WAS</td>\n",
       "      <td>WR</td>\n",
       "      <td>Jahan Dotson</td>\n",
       "      <td>00-0037741</td>\n",
       "    </tr>\n",
       "    <tr>\n",
       "      <th>2640</th>\n",
       "      <td>2022</td>\n",
       "      <td>18</td>\n",
       "      <td>WAS</td>\n",
       "      <td>WR</td>\n",
       "      <td>Kyric Mcgowan</td>\n",
       "      <td>00-0037172</td>\n",
       "    </tr>\n",
       "  </tbody>\n",
       "</table>\n",
       "<p>5290 rows × 6 columns</p>\n",
       "</div>"
      ],
      "text/plain": [
       "      season  week team position           player_name   player_id\n",
       "0       2020    17  ARI       DB      Johnathan Joseph  00-0024239\n",
       "1       2020    17  ARI       DB      Patrick Peterson  00-0027943\n",
       "2       2020    17  ARI       DB      Prince Amukamara  00-0027957\n",
       "3       2020    17  ARI       DB       Dre Kirkpatrick  00-0029560\n",
       "4       2020    17  ARI       DB           Chris Banjo  00-0029747\n",
       "...      ...   ...  ...      ...                   ...         ...\n",
       "2636    2022    18  WAS       WR  Antonio Gandy-Golden  00-0036340\n",
       "2637    2022    18  WAS       WR           Dyami Brown  00-0036626\n",
       "2638    2022    18  WAS       WR             Dax Milne  00-0036671\n",
       "2639    2022    18  WAS       WR          Jahan Dotson  00-0037741\n",
       "2640    2022    18  WAS       WR         Kyric Mcgowan  00-0037172\n",
       "\n",
       "[5290 rows x 6 columns]"
      ]
     },
     "execution_count": 12,
     "metadata": {},
     "output_type": "execute_result"
    }
   ],
   "source": [
    "r_columns = [\n",
    "    'season',\n",
    "    'week',\n",
    "    'team',\n",
    "    'position',\n",
    "    'player_name',\n",
    "    'player_id'\n",
    "]\n",
    "rosters[r_columns]"
   ]
  },
  {
   "cell_type": "code",
   "execution_count": 13,
   "metadata": {},
   "outputs": [],
   "source": [
    "from scipy.stats import zscore"
   ]
  },
  {
   "cell_type": "code",
   "execution_count": 14,
   "metadata": {},
   "outputs": [],
   "source": [
    "# Use to reduce outlier positions\n",
    "position_filter = ['QB','RB','WR','TE']\n",
    "\n",
    "dataset_cols = meta_columns + [\n",
    "    'play_id',\n",
    "    'play_type',\n",
    "    'yards_gained',\n",
    "    'rusher_player_id',\n",
    "    'epa'\n",
    "]\n",
    "\n",
    "epa_dataset = api_data[dataset_cols]\n",
    "\n",
    "mask = (epa_dataset['play_type']=='run')\n",
    "\n",
    "epa_dataset = epa_dataset.loc[mask].merge(\n",
    "    rosters[[\n",
    "        'player_name',\n",
    "        'position',\n",
    "        'player_id'\n",
    "        ]],\n",
    "    left_on = ['rusher_player_id'],\n",
    "    right_on = ['player_id'],\n",
    "    how = 'inner'\n",
    ").drop_duplicates()\n",
    "\n",
    "position_mask = (epa_dataset['position'].isin(position_filter))\n",
    "\n",
    "epa_dataset = epa_dataset[position_mask]\n",
    "\n",
    "epa_dataset['defteam'] = epa_dataset.apply(lambda x : x['home_team'] if x['away_team']==x['posteam'] else x['away_team'], axis = 1)\n",
    "# Pre-elo datasets should be at the game / team / player level\n",
    "\n",
    "order_cols = ['season','week'] # Used in ELO function\n",
    "off_gb_cols = ['posteam','defteam','position','rusher_player_id','player_name'] # At what level are we AGGREGATING offensive performance\n",
    "gb_cols_z = ['season','position'] # What is aggregate level for z score\n",
    "def_gb_cols = ['posteam','defteam','position'] # Matched up against what level on defense to AGGREGATE to\n",
    "perf_cols = ['epa'] # What are we assessing for ELO\n",
    "\n",
    "off_epa_dataset = epa_dataset.groupby(order_cols + off_gb_cols)[perf_cols].sum().reset_index()\n",
    "for col in perf_cols:\n",
    "    off_epa_dataset[f'z_{col}'] = off_epa_dataset.groupby(order_cols + gb_cols_z)[col].transform(lambda x : zscore(x))\n",
    "off_epa_dataset.drop(perf_cols, axis = 1, inplace = True)\n",
    "\n",
    "def_epa_dataset = epa_dataset.groupby(order_cols + def_gb_cols)[perf_cols].sum().reset_index()\n",
    "for col in perf_cols:\n",
    "    def_epa_dataset[f'z_{col}'] = def_epa_dataset.groupby(order_cols + gb_cols_z)[col].transform(lambda x : zscore(x))\n",
    "def_epa_dataset.drop(perf_cols, axis = 1, inplace = True)\n",
    "\n",
    "# Don't need to use cumulative functions, because this is retroactive and we can use long term averages by position\n",
    "#  epa_dataset[[f'cum_{col}' for col in perf_cols]] = epa_dataset.groupby(off_gb_cols_cum)[perf_cols].cumsum()\n",
    "# epa_dataset['cum_n'] = epa_dataset.groupby(off_gb_cols_cum)[perf_cols[0]].cumcount()\n",
    "# for col in perf_cols:\n",
    "#     epa_dataset[f'cummean_{col}'] = epa_dataset[f'cum_{col}'] / (epa_dataset['cum_n'] + 1)\n",
    "# # Calculate standard deviation\n",
    "# epa_dataset.groupby(off_gb_cols_cum)['yards_gained'].expanding().std()"
   ]
  },
  {
   "cell_type": "code",
   "execution_count": 30,
   "metadata": {},
   "outputs": [],
   "source": [
    "def_appearance_columns = ['defteam','position']\n",
    "def_epa_dataset['def_appearance'] = def_epa_dataset.sort_values(order_cols).groupby(def_appearance_columns)['posteam'].cumcount() + 1\n",
    "\n",
    "off_appearance_columns = ['position','rusher_player_id']\n",
    "off_epa_dataset['off_appearance'] = off_epa_dataset.sort_values(order_cols).groupby(off_appearance_columns)['defteam'].cumcount() + 1"
   ]
  },
  {
   "cell_type": "code",
   "execution_count": 186,
   "metadata": {},
   "outputs": [],
   "source": [
    "def_epa_dataset.to_csv('off.csv')"
   ]
  },
  {
   "cell_type": "code",
   "execution_count": 279,
   "metadata": {},
   "outputs": [],
   "source": [
    "from warehouse.utilities.elo import calculate_elo_metric\n",
    "\n",
    "elo_df = calculate_elo_metric(\n",
    "    input_off_data = off_epa_dataset,\n",
    "    input_def_data = def_epa_dataset,\n",
    "    elo_multiplier = 10,\n",
    "    elo_power = 1.5 # Should be somewhere between 1 and 2\n",
    ")"
   ]
  },
  {
   "cell_type": "code",
   "execution_count": 280,
   "metadata": {},
   "outputs": [],
   "source": [
    "import matplotlib.pyplot as plt\n",
    "import matplotlib\n",
    "matplotlib.rcParams['figure.figsize'] = [10, 2]"
   ]
  },
  {
   "cell_type": "code",
   "execution_count": 284,
   "metadata": {},
   "outputs": [
    {
     "data": {
      "image/png": "[encoded data removed]",
      "text/plain": [
       "<Figure size 1000x200 with 1 Axes>"
      ]
     },
     "metadata": {},
     "output_type": "display_data"
    },
    {
     "data": {
      "text/plain": [
       "<Figure size 4000x200 with 0 Axes>"
      ]
     },
     "metadata": {},
     "output_type": "display_data"
    }
   ],
   "source": [
    "pos = 'RB'\n",
    "asc = True\n",
    "N = 2\n",
    "\n",
    "view = elo_df[elo_df['position']==pos].sort_values('off_elo', ascending=asc)[['season','week','player_name','off_elo']].drop_duplicates()\n",
    "top_rows = view.iloc[-N:]\n",
    "bottom_rows = view.iloc[:N]\n",
    "\n",
    "bar = pd.concat([top_rows,bottom_rows])\n",
    "bar['season'] = bar['season'].astype(str)\n",
    "bar['week'] = bar['week'].astype(str)\n",
    "bar['ind'] = bar[['player_name','season', 'week']].agg('\\n'.join, axis=1)\n",
    "\n",
    "plt.bar(bar['ind'], bar['off_elo'] - 2000, align='center')\n",
    "plt.figure().set_figwidth(40)\n",
    "plt.show()"
   ]
  },
  {
   "cell_type": "code",
   "execution_count": 285,
   "metadata": {},
   "outputs": [
    {
     "data": {
      "text/plain": [
       "[<matplotlib.lines.Line2D at 0x28a5ba06800>]"
      ]
     },
     "execution_count": 285,
     "metadata": {},
     "output_type": "execute_result"
    },
    {
     "data": {
      "image/png": "[encoded data removed]",
      "text/plain": [
       "<Figure size 1000x200 with 1 Axes>"
      ]
     },
     "metadata": {},
     "output_type": "display_data"
    }
   ],
   "source": [
    "player_name = 'Jonathan Taylor'\n",
    "\n",
    "view = elo_df[elo_df['player_name']==player_name]\n",
    "view['season'] = view['season'].astype(str)\n",
    "view['week'] = view['week'].astype(str)\n",
    "view['ind'] = view[['season', 'week']].agg('\\n'.join, axis=1)\n",
    "\n",
    "plt.plot(view['ind'], view['off_elo'] - 2000)"
   ]
  }
 ],
 "metadata": {
  "kernelspec": {
   "display_name": "Python 3",
   "language": "python",
   "name": "python3"
  },
  "language_info": {
   "codemirror_mode": {
    "name": "ipython",
    "version": 3
   },
   "file_extension": ".py",
   "mimetype": "text/x-python",
   "name": "python",
   "nbconvert_exporter": "python",
   "pygments_lexer": "ipython3",
   "version": "3.10.11"
  },
  "orig_nbformat": 4
 },
 "nbformat": 4,
 "nbformat_minor": 2
}
