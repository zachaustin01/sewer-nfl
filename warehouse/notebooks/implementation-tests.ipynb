{
 "cells": [
  {
   "cell_type": "code",
   "execution_count": 1,
   "metadata": {},
   "outputs": [],
   "source": [
    "%load_ext autoreload\n",
    "%autoreload 2"
   ]
  },
  {
   "cell_type": "code",
   "execution_count": 2,
   "metadata": {},
   "outputs": [],
   "source": [
    "REPO_NAME = 'sewer-nfl'\n",
    "import sys, os\n",
    "cwd = str(os.getcwd())\n",
    "repo_dir = cwd[:cwd.find(REPO_NAME)+len(REPO_NAME)]\n",
    "sys.path.insert(0,repo_dir)"
   ]
  },
  {
   "cell_type": "code",
   "execution_count": 14,
   "metadata": {},
   "outputs": [],
   "source": [
    "from warehouse.catalog import FUNCTION_CATALOG"
   ]
  },
  {
   "cell_type": "code",
   "execution_count": 12,
   "metadata": {},
   "outputs": [
    {
     "data": {
      "text/html": [
       "<div>\n",
       "<style scoped>\n",
       "    .dataframe tbody tr th:only-of-type {\n",
       "        vertical-align: middle;\n",
       "    }\n",
       "\n",
       "    .dataframe tbody tr th {\n",
       "        vertical-align: top;\n",
       "    }\n",
       "\n",
       "    .dataframe thead th {\n",
       "        text-align: right;\n",
       "    }\n",
       "</style>\n",
       "<table border=\"1\" class=\"dataframe\">\n",
       "  <thead>\n",
       "    <tr style=\"text-align: right;\">\n",
       "      <th></th>\n",
       "      <th>season</th>\n",
       "      <th>week</th>\n",
       "      <th>team</th>\n",
       "      <th>def_aggr</th>\n",
       "    </tr>\n",
       "  </thead>\n",
       "  <tbody>\n",
       "    <tr>\n",
       "      <th>0</th>\n",
       "      <td>2016</td>\n",
       "      <td>1</td>\n",
       "      <td>ARI</td>\n",
       "      <td>NaN</td>\n",
       "    </tr>\n",
       "    <tr>\n",
       "      <th>1</th>\n",
       "      <td>2016</td>\n",
       "      <td>2</td>\n",
       "      <td>ARI</td>\n",
       "      <td>NaN</td>\n",
       "    </tr>\n",
       "    <tr>\n",
       "      <th>2</th>\n",
       "      <td>2016</td>\n",
       "      <td>3</td>\n",
       "      <td>ARI</td>\n",
       "      <td>NaN</td>\n",
       "    </tr>\n",
       "    <tr>\n",
       "      <th>3</th>\n",
       "      <td>2016</td>\n",
       "      <td>4</td>\n",
       "      <td>ARI</td>\n",
       "      <td>NaN</td>\n",
       "    </tr>\n",
       "    <tr>\n",
       "      <th>4</th>\n",
       "      <td>2016</td>\n",
       "      <td>5</td>\n",
       "      <td>ARI</td>\n",
       "      <td>16.717708</td>\n",
       "    </tr>\n",
       "    <tr>\n",
       "      <th>...</th>\n",
       "      <td>...</td>\n",
       "      <td>...</td>\n",
       "      <td>...</td>\n",
       "      <td>...</td>\n",
       "    </tr>\n",
       "    <tr>\n",
       "      <th>3654</th>\n",
       "      <td>2022</td>\n",
       "      <td>13</td>\n",
       "      <td>WAS</td>\n",
       "      <td>15.481811</td>\n",
       "    </tr>\n",
       "    <tr>\n",
       "      <th>3655</th>\n",
       "      <td>2022</td>\n",
       "      <td>15</td>\n",
       "      <td>WAS</td>\n",
       "      <td>12.981811</td>\n",
       "    </tr>\n",
       "    <tr>\n",
       "      <th>3656</th>\n",
       "      <td>2022</td>\n",
       "      <td>16</td>\n",
       "      <td>WAS</td>\n",
       "      <td>11.723069</td>\n",
       "    </tr>\n",
       "    <tr>\n",
       "      <th>3657</th>\n",
       "      <td>2022</td>\n",
       "      <td>17</td>\n",
       "      <td>WAS</td>\n",
       "      <td>12.632160</td>\n",
       "    </tr>\n",
       "    <tr>\n",
       "      <th>3658</th>\n",
       "      <td>2022</td>\n",
       "      <td>18</td>\n",
       "      <td>WAS</td>\n",
       "      <td>15.637566</td>\n",
       "    </tr>\n",
       "  </tbody>\n",
       "</table>\n",
       "<p>3659 rows × 4 columns</p>\n",
       "</div>"
      ],
      "text/plain": [
       "      season  week team   def_aggr\n",
       "0       2016     1  ARI        NaN\n",
       "1       2016     2  ARI        NaN\n",
       "2       2016     3  ARI        NaN\n",
       "3       2016     4  ARI        NaN\n",
       "4       2016     5  ARI  16.717708\n",
       "...      ...   ...  ...        ...\n",
       "3654    2022    13  WAS  15.481811\n",
       "3655    2022    15  WAS  12.981811\n",
       "3656    2022    16  WAS  11.723069\n",
       "3657    2022    17  WAS  12.632160\n",
       "3658    2022    18  WAS  15.637566\n",
       "\n",
       "[3659 rows x 4 columns]"
      ]
     },
     "execution_count": 12,
     "metadata": {},
     "output_type": "execute_result"
    }
   ],
   "source": [
    "f = FUNCTION_CATALOG['get_def_qb_aggr']\n",
    "\n",
    "# Example call: \n",
    "\n",
    "f['func'](*f['params'])"
   ]
  },
  {
   "cell_type": "code",
   "execution_count": 15,
   "metadata": {},
   "outputs": [],
   "source": [
    "catalog_results = [\n",
    "    FUNCTION_CATALOG[key]['func']\\\n",
    "        (*FUNCTION_CATALOG[key]['params']) \\\n",
    "            for key in FUNCTION_CATALOG.keys()\n",
    "    ]"
   ]
  },
  {
   "cell_type": "code",
   "execution_count": 41,
   "metadata": {},
   "outputs": [],
   "source": [
    "import copy\n",
    "# Iterate over results and build final df\n",
    "df = catalog_results[0]\n",
    "for i in range(1,len(catalog_results)):\n",
    "    on_cols = ['season','week','team']\n",
    "    left_on = [oc for oc in on_cols if oc in df.columns]\n",
    "    right_on = [oc for oc in on_cols if oc in catalog_results[i].columns]\n",
    "    # If right missing left, reduce\n",
    "    if len(right_on) < len(left_on):\n",
    "        left_on = copy.deepcopy(right_on)\n",
    "    if 'defteam' in catalog_results[i].columns:\n",
    "        left_on.append('team')\n",
    "        right_on.append('defteam')\n",
    "    df = df.merge(catalog_results[i], how = \"left\", left_on = left_on, right_on = right_on)"
   ]
  }
 ],
 "metadata": {
  "kernelspec": {
   "display_name": ".venv",
   "language": "python",
   "name": "python3"
  },
  "language_info": {
   "codemirror_mode": {
    "name": "ipython",
    "version": 3
   },
   "file_extension": ".py",
   "mimetype": "text/x-python",
   "name": "python",
   "nbconvert_exporter": "python",
   "pygments_lexer": "ipython3",
   "version": "3.10.11"
  },
  "orig_nbformat": 4
 },
 "nbformat": 4,
 "nbformat_minor": 2
}
