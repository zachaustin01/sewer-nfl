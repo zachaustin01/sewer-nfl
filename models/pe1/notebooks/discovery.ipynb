{
 "cells": [
  {
   "cell_type": "code",
   "execution_count": 2,
   "metadata": {},
   "outputs": [
    {
     "name": "stdout",
     "output_type": "stream",
     "text": [
      "The autoreload extension is already loaded. To reload it, use:\n",
      "  %reload_ext autoreload\n"
     ]
    }
   ],
   "source": [
    "%load_ext autoreload\n",
    "%autoreload 2"
   ]
  },
  {
   "cell_type": "code",
   "execution_count": 3,
   "metadata": {},
   "outputs": [],
   "source": [
    "REPO_NAME = 'sewer-nfl'\n",
    "import sys, os\n",
    "cwd = str(os.getcwd())\n",
    "repo_dir = cwd[:cwd.find(REPO_NAME)+len(REPO_NAME)]\n",
    "sys.path.insert(0,repo_dir)"
   ]
  },
  {
   "cell_type": "code",
   "execution_count": 5,
   "metadata": {},
   "outputs": [],
   "source": [
    "import pandas as pd\n",
    "import nfl_data_py as nflreadr\n",
    "from warehouse.pipelines.pbp.epa import pre_elo_epa\n",
    "from warehouse.utilities.elo import calculate_elo_metric"
   ]
  },
  {
   "cell_type": "code",
   "execution_count": 7,
   "metadata": {},
   "outputs": [],
   "source": [
    "MIN_YEAR = 2010\n",
    "MAX_YEAR = 2022\n",
    "MAX_WEEK = 18"
   ]
  },
  {
   "cell_type": "code",
   "execution_count": 8,
   "metadata": {},
   "outputs": [
    {
     "name": "stdout",
     "output_type": "stream",
     "text": [
      "2010 done.\n",
      "2011 done.\n",
      "2012 done.\n",
      "2013 done.\n",
      "2014 done.\n",
      "2015 done.\n",
      "2016 done.\n",
      "2017 done.\n",
      "2018 done.\n",
      "2019 done.\n",
      "2020 done.\n",
      "2021 done.\n",
      "2022 done.\n",
      "Downcasting floats.\n"
     ]
    }
   ],
   "source": [
    "pbp_api_data = nflreadr.import_pbp_data(range(MIN_YEAR,MAX_YEAR + 1))\n",
    "pbp_api_data = pbp_api_data[pbp_api_data['week']<=MAX_WEEK]"
   ]
  },
  {
   "cell_type": "code",
   "execution_count": 9,
   "metadata": {},
   "outputs": [],
   "source": [
    "roster_api_data = nflreadr.import_rosters(years=range(MIN_YEAR, MAX_YEAR + 1))"
   ]
  },
  {
   "cell_type": "code",
   "execution_count": 33,
   "metadata": {},
   "outputs": [],
   "source": [
    "# Receiving\n",
    "\n",
    "receiving_off_epa , receiving_def_epa = pre_elo_epa(\n",
    "    pbp_api = pbp_api_data,\n",
    "    roster_api = roster_api_data, \n",
    "    position_filter = ['RB','WR','TE'],\n",
    "    play_types = ['pass'],\n",
    "    player_id_col = 'receiver_player_id',\n",
    "    order_cols = ['season','week'],\n",
    "    off_gb_cols = ['posteam','defteam','position','player_name'], # At what level are we AGGREGATING offensive performance\n",
    "    gb_cols_z = ['season','position'], # What is aggregate level for z score\n",
    "    def_gb_cols = ['posteam','defteam','position'], # Matched up against what level on defense to AGGREGATE to\n",
    "    perf_cols = ['epa'], # What are we assessing for ELO\n",
    "    off_appearance_columns = ['position','receiver_player_id','season'],\n",
    "    def_appearance_columns = ['position','defteam','season']\n",
    ")\n",
    "receiving_elo_df = calculate_elo_metric(\n",
    "    input_off_data = receiving_off_epa,\n",
    "    input_def_data = receiving_def_epa,\n",
    "    order_cols = ['season','week'],\n",
    "    off_gb_cols = ['posteam','defteam','position','player_name'], # At what level are we AGGREGATING offensive performance\n",
    "    def_gb_cols = ['posteam','defteam','position'], # Matched up against what level on defense to AGGREGATE to\n",
    "    off_lookup_values = ['position','receiver_player_id'],\n",
    "    def_lookup_values = ['position','defteam'],\n",
    "    off_perf_col = 'z_epa_x',\n",
    "    def_perf_col = 'z_epa_y',\n",
    "    elo_multiplier = 5,\n",
    "    elo_power = 1.7,\n",
    "    elo_base = 2000\n",
    ")"
   ]
  },
  {
   "cell_type": "code",
   "execution_count": 27,
   "metadata": {},
   "outputs": [],
   "source": [
    "# Rushing\n",
    "\n",
    "rushing_off_epa , rushing_def_epa = pre_elo_epa(\n",
    "    pbp_api = pbp_api_data,\n",
    "    roster_api = roster_api_data, \n",
    "    position_filter = ['QB','RB','WR','TE'],\n",
    "    play_types = ['run'],\n",
    "    player_id_col = 'rusher_player_id',\n",
    "    order_cols = ['season','week'],\n",
    "    off_gb_cols = ['posteam','defteam','position','player_name'], # At what level are we AGGREGATING offensive performance\n",
    "    gb_cols_z = ['season','position'], # What is aggregate level for z score\n",
    "    def_gb_cols = ['posteam','defteam','position'], # Matched up against what level on defense to AGGREGATE to\n",
    "    perf_cols = ['epa'], # What are we assessing for ELO\n",
    "    off_appearance_columns = ['position','rusher_player_id','season'],\n",
    "    def_appearance_columns = ['position','defteam','season']\n",
    ")\n",
    "rushing_elo_df = calculate_elo_metric(\n",
    "    input_off_data = rushing_off_epa,\n",
    "    input_def_data = rushing_def_epa,\n",
    "    order_cols = ['season','week'],\n",
    "    off_gb_cols = ['posteam','defteam','position','player_name'], # At what level are we AGGREGATING offensive performance\n",
    "    def_gb_cols = ['posteam','defteam','position'], # Matched up against what level on defense to AGGREGATE to\n",
    "    off_lookup_values = ['position','rusher_player_id'],\n",
    "    def_lookup_values = ['position','defteam'],\n",
    "    off_perf_col = 'z_epa_x',\n",
    "    def_perf_col = 'z_epa_y',\n",
    "    elo_multiplier = 5,\n",
    "    elo_power = 1.7,\n",
    "    elo_base = 2000\n",
    ")"
   ]
  },
  {
   "cell_type": "code",
   "execution_count": 34,
   "metadata": {},
   "outputs": [],
   "source": [
    "# Passing\n",
    "\n",
    "passing_off_epa , passing_def_epa = pre_elo_epa(\n",
    "    pbp_api = pbp_api_data,\n",
    "    roster_api = roster_api_data, \n",
    "    position_filter = ['QB'],\n",
    "    play_types = ['pass'],\n",
    "    player_id_col = 'passer_player_id',\n",
    "    order_cols = ['season','week'],\n",
    "    off_gb_cols = ['posteam','defteam','position','player_name'], # At what level are we AGGREGATING offensive performance\n",
    "    gb_cols_z = ['season','position'], # What is aggregate level for z score\n",
    "    def_gb_cols = ['posteam','defteam','position'], # Matched up against what level on defense to AGGREGATE to\n",
    "    perf_cols = ['epa'], # What are we assessing for ELO\n",
    "    off_appearance_columns = ['position','passer_player_id','season'],\n",
    "    def_appearance_columns = ['position','defteam','season']\n",
    ")\n",
    "passing_elo_df = calculate_elo_metric(\n",
    "    input_off_data = passing_off_epa,\n",
    "    input_def_data = passing_def_epa,\n",
    "    order_cols = ['season','week'],\n",
    "    off_gb_cols = ['posteam','defteam','position','player_name'], # At what level are we AGGREGATING offensive performance\n",
    "    def_gb_cols = ['posteam','defteam','position'], # Matched up against what level on defense to AGGREGATE to\n",
    "    off_lookup_values = ['position','passer_player_id'],\n",
    "    def_lookup_values = ['position','defteam'],\n",
    "    off_perf_col = 'z_epa_x',\n",
    "    def_perf_col = 'z_epa_y',\n",
    "    elo_multiplier = 5,\n",
    "    elo_power = 1.7,\n",
    "    elo_base = 2000\n",
    ")"
   ]
  }
 ],
 "metadata": {
  "kernelspec": {
   "display_name": ".venv",
   "language": "python",
   "name": "python3"
  },
  "language_info": {
   "codemirror_mode": {
    "name": "ipython",
    "version": 3
   },
   "file_extension": ".py",
   "mimetype": "text/x-python",
   "name": "python",
   "nbconvert_exporter": "python",
   "pygments_lexer": "ipython3",
   "version": "3.10.11"
  },
  "orig_nbformat": 4
 },
 "nbformat": 4,
 "nbformat_minor": 2
}
