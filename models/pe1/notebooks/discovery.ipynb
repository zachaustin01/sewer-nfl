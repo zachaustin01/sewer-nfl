{
 "cells": [
  {
   "cell_type": "code",
   "execution_count": 1,
   "metadata": {},
   "outputs": [],
   "source": [
    "%load_ext autoreload\n",
    "%autoreload 2"
   ]
  },
  {
   "cell_type": "code",
   "execution_count": 2,
   "metadata": {},
   "outputs": [],
   "source": [
    "REPO_NAME = 'sewer-nfl'\n",
    "import sys, os\n",
    "cwd = str(os.getcwd())\n",
    "repo_dir = cwd[:cwd.find(REPO_NAME)+len(REPO_NAME)]\n",
    "sys.path.insert(0,repo_dir)"
   ]
  },
  {
   "cell_type": "code",
   "execution_count": 3,
   "metadata": {},
   "outputs": [
    {
     "name": "stdout",
     "output_type": "stream",
     "text": [
      "2010 done.\n",
      "2011 done.\n",
      "2012 done.\n",
      "2013 done.\n",
      "2014 done.\n",
      "2015 done.\n",
      "2016 done.\n",
      "2017 done.\n",
      "2018 done.\n",
      "2019 done.\n",
      "2020 done.\n",
      "2021 done.\n",
      "2022 done.\n",
      "Downcasting floats.\n"
     ]
    }
   ],
   "source": [
    "from models.pe1.pipeline import model_df, pbp_api_data"
   ]
  },
  {
   "cell_type": "code",
   "execution_count": 4,
   "metadata": {},
   "outputs": [],
   "source": [
    "import numpy as np\n",
    "import pandas as pd\n",
    "final_model_data = pbp_api_data[['game_id','season','week','home_team','away_team','home_score',\n",
    "                                 'away_score']]\\\n",
    "    .drop_duplicates().merge(\n",
    "        model_df,\n",
    "        how = 'left'\n",
    "    )\n",
    "final_model_data['home_cover'] = final_model_data.apply(lambda x: 1 if x['home_score'] - \\\n",
    "                                                                  x['away_score'] < \\\n",
    "                                                                  x['spread_line'] else 0,\n",
    "                                                         axis = 1)\n",
    "final_model_data = final_model_data.apply(pd.to_numeric, errors='coerce', axis=1)\n",
    "\n",
    "\n",
    "LABEL = 'home_cover'\n",
    "PREDICTORS = [\n",
    "    'spread_line',\n",
    "    'def_elo_QB_pass_x', 'off_elo_QB_pass_x', 'def_elo_RB_rec_x',\n",
    "    'def_elo_TE_rec_x', 'def_elo_WR_rec_x', 'off_elo_RB_rec_x',\n",
    "    'off_elo_TE_rec_x', 'off_elo_WR_rec_x', 'def_elo_QB_rush_x',\n",
    "    'def_elo_RB_rush_x', \n",
    "    'off_elo_QB_rush_x', 'off_elo_RB_rush_x', \n",
    "    'def_elo_QB_pass_y',\n",
    "    'off_elo_QB_pass_y', 'def_elo_RB_rec_y', 'def_elo_TE_rec_y',\n",
    "    'def_elo_WR_rec_y', 'off_elo_RB_rec_y', 'off_elo_TE_rec_y',\n",
    "    'off_elo_WR_rec_y', 'def_elo_QB_rush_y', 'def_elo_RB_rush_y',\n",
    "    'off_elo_QB_rush_y',\n",
    "    'off_elo_RB_rush_y'\n",
    "]"
   ]
  },
  {
   "cell_type": "code",
   "execution_count": 61,
   "metadata": {},
   "outputs": [],
   "source": [
    "X, y = final_model_data[PREDICTORS], final_model_data[[LABEL]]"
   ]
  },
  {
   "cell_type": "code",
   "execution_count": 62,
   "metadata": {},
   "outputs": [],
   "source": [
    "from sklearn.pipeline import Pipeline\n",
    "from sklearn.preprocessing import StandardScaler\n",
    "from sklearn.impute import SimpleImputer\n",
    "\n",
    "\n",
    "numeric_pipeline = Pipeline(\n",
    "    steps=[(\"impute\", SimpleImputer(strategy=\"mean\")), \n",
    "           (\"scale\", StandardScaler())]\n",
    ")\n",
    "num_cols = X.select_dtypes(include=\"number\").columns"
   ]
  },
  {
   "cell_type": "code",
   "execution_count": 63,
   "metadata": {},
   "outputs": [],
   "source": [
    "from sklearn.compose import ColumnTransformer\n",
    "\n",
    "full_processor = ColumnTransformer(\n",
    "    transformers=[\n",
    "        (\"numeric\", numeric_pipeline, num_cols)\n",
    "    ]\n",
    ")"
   ]
  },
  {
   "cell_type": "code",
   "execution_count": 64,
   "metadata": {},
   "outputs": [],
   "source": [
    "import xgboost as xgb\n",
    "xgb_cl = xgb.XGBClassifier()"
   ]
  },
  {
   "cell_type": "code",
   "execution_count": 65,
   "metadata": {},
   "outputs": [],
   "source": [
    "# Note, do train test split first\n",
    "train_mask = final_model_data['season']!=2022\n",
    "X_tr = X[train_mask]\n",
    "X_te = X[~train_mask]\n",
    "y_train = y[train_mask]\n",
    "y_test = np.array(y[~train_mask])"
   ]
  },
  {
   "cell_type": "code",
   "execution_count": 66,
   "metadata": {},
   "outputs": [],
   "source": [
    "# Apply preprocessing\n",
    "X_train = full_processor.fit_transform(X_tr)\n",
    "X_test = full_processor.fit_transform(X_te)"
   ]
  },
  {
   "cell_type": "code",
   "execution_count": 67,
   "metadata": {},
   "outputs": [],
   "source": [
    "# Create classification matrices\n",
    "dtrain_clf = xgb.DMatrix(X_train, y_train, enable_categorical=False)\n",
    "dtest_clf = xgb.DMatrix(X_test, y_test, enable_categorical=False)"
   ]
  },
  {
   "cell_type": "code",
   "execution_count": 12,
   "metadata": {},
   "outputs": [],
   "source": [
    "param_grid = {\n",
    "    \"max_depth\": [3, 4, 5, 7],\n",
    "    \"learning_rate\": [0.1, 0.01, 0.05],\n",
    "    \"gamma\": [0, 0.25, 1],\n",
    "    \"reg_lambda\": [0, 1, 10],\n",
    "    \"scale_pos_weight\": [1, 3, 5],\n",
    "    \"subsample\": [0.8],\n",
    "    \"colsample_bytree\": [0.5],\n",
    "}"
   ]
  },
  {
   "cell_type": "code",
   "execution_count": 13,
   "metadata": {},
   "outputs": [
    {
     "data": {
      "text/plain": [
       "0.5346850614457465"
      ]
     },
     "execution_count": 13,
     "metadata": {},
     "output_type": "execute_result"
    }
   ],
   "source": [
    "from sklearn.metrics import accuracy_score\n",
    "from sklearn.model_selection import GridSearchCV\n",
    "xgb_cl = xgb.XGBClassifier(objective = 'binary:logistic')\n",
    "\n",
    "grid_cv = GridSearchCV(xgb_cl, param_grid, n_jobs=-1, cv=3, scoring=\"roc_auc\")\n",
    "_ = grid_cv.fit(X_train, y_train)\n",
    "grid_cv.best_score_"
   ]
  },
  {
   "cell_type": "code",
   "execution_count": 14,
   "metadata": {},
   "outputs": [
    {
     "data": {
      "text/plain": [
       "{'colsample_bytree': 0.5,\n",
       " 'gamma': 0,\n",
       " 'learning_rate': 0.05,\n",
       " 'max_depth': 3,\n",
       " 'reg_lambda': 0,\n",
       " 'scale_pos_weight': 5,\n",
       " 'subsample': 0.8}"
      ]
     },
     "execution_count": 14,
     "metadata": {},
     "output_type": "execute_result"
    }
   ],
   "source": [
    "grid_cv.best_params_"
   ]
  },
  {
   "cell_type": "code",
   "execution_count": 15,
   "metadata": {},
   "outputs": [
    {
     "name": "stdout",
     "output_type": "stream",
     "text": [
      "[0]\tvalidation_0-auc:0.49640\n",
      "[1]\tvalidation_0-auc:0.48158\n",
      "[2]\tvalidation_0-auc:0.47599\n",
      "[3]\tvalidation_0-auc:0.47864\n",
      "[4]\tvalidation_0-auc:0.48981\n",
      "[5]\tvalidation_0-auc:0.46588\n",
      "[6]\tvalidation_0-auc:0.45302\n",
      "[7]\tvalidation_0-auc:0.45414\n",
      "[8]\tvalidation_0-auc:0.45765\n",
      "[9]\tvalidation_0-auc:0.45574\n",
      "[10]\tvalidation_0-auc:0.45269\n",
      "[11]\tvalidation_0-auc:0.45782\n",
      "[12]\tvalidation_0-auc:0.46179\n",
      "[13]\tvalidation_0-auc:0.45133\n",
      "[14]\tvalidation_0-auc:0.46060\n",
      "[15]\tvalidation_0-auc:0.46517\n",
      "[16]\tvalidation_0-auc:0.47128\n",
      "[17]\tvalidation_0-auc:0.46632\n",
      "[18]\tvalidation_0-auc:0.46114\n",
      "[19]\tvalidation_0-auc:0.47101\n",
      "[20]\tvalidation_0-auc:0.47509\n",
      "[21]\tvalidation_0-auc:0.47684\n",
      "[22]\tvalidation_0-auc:0.46877\n",
      "[23]\tvalidation_0-auc:0.46806\n",
      "[24]\tvalidation_0-auc:0.46986\n",
      "[25]\tvalidation_0-auc:0.47825\n",
      "[26]\tvalidation_0-auc:0.47204\n",
      "[27]\tvalidation_0-auc:0.46746\n",
      "[28]\tvalidation_0-auc:0.47782\n",
      "[29]\tvalidation_0-auc:0.48071\n",
      "[30]\tvalidation_0-auc:0.47885\n",
      "[31]\tvalidation_0-auc:0.48518\n",
      "[32]\tvalidation_0-auc:0.49101\n",
      "[33]\tvalidation_0-auc:0.49210\n",
      "[34]\tvalidation_0-auc:0.48676\n",
      "[35]\tvalidation_0-auc:0.48588\n",
      "[36]\tvalidation_0-auc:0.48338\n",
      "[37]\tvalidation_0-auc:0.49063\n",
      "[38]\tvalidation_0-auc:0.48834\n",
      "[39]\tvalidation_0-auc:0.49248\n",
      "[40]\tvalidation_0-auc:0.49886\n",
      "[41]\tvalidation_0-auc:0.49989\n",
      "[42]\tvalidation_0-auc:0.50011\n",
      "[43]\tvalidation_0-auc:0.50289\n",
      "[44]\tvalidation_0-auc:0.50698\n",
      "[45]\tvalidation_0-auc:0.50311\n",
      "[46]\tvalidation_0-auc:0.50229\n",
      "[47]\tvalidation_0-auc:0.50125\n",
      "[48]\tvalidation_0-auc:0.49935\n",
      "[49]\tvalidation_0-auc:0.49531\n",
      "[50]\tvalidation_0-auc:0.50093\n",
      "[51]\tvalidation_0-auc:0.49700\n"
     ]
    },
    {
     "name": "stderr",
     "output_type": "stream",
     "text": [
      "c:\\Users\\zacha\\Documents\\GitHub\\sewer-nfl\\.venv\\lib\\site-packages\\xgboost\\sklearn.py:835: UserWarning: `eval_metric` in `fit` method is deprecated for better compatibility with scikit-learn, use `eval_metric` in constructor or`set_params` instead.\n",
      "  warnings.warn(\n"
     ]
    },
    {
     "name": "stdout",
     "output_type": "stream",
     "text": [
      "[52]\tvalidation_0-auc:0.50218\n",
      "[53]\tvalidation_0-auc:0.50131\n",
      "[54]\tvalidation_0-auc:0.50273\n",
      "[55]\tvalidation_0-auc:0.50382\n",
      "[56]\tvalidation_0-auc:0.50921\n",
      "[57]\tvalidation_0-auc:0.51030\n",
      "[58]\tvalidation_0-auc:0.51041\n",
      "[59]\tvalidation_0-auc:0.51025\n",
      "[60]\tvalidation_0-auc:0.50992\n",
      "[61]\tvalidation_0-auc:0.51619\n",
      "[62]\tvalidation_0-auc:0.51466\n",
      "[63]\tvalidation_0-auc:0.51766\n",
      "[64]\tvalidation_0-auc:0.52175\n",
      "[65]\tvalidation_0-auc:0.52251\n",
      "[66]\tvalidation_0-auc:0.52186\n",
      "[67]\tvalidation_0-auc:0.52049\n",
      "[68]\tvalidation_0-auc:0.52311\n",
      "[69]\tvalidation_0-auc:0.52142\n",
      "[70]\tvalidation_0-auc:0.52256\n",
      "[71]\tvalidation_0-auc:0.52529\n",
      "[72]\tvalidation_0-auc:0.52142\n",
      "[73]\tvalidation_0-auc:0.52769\n",
      "[74]\tvalidation_0-auc:0.52496\n",
      "[75]\tvalidation_0-auc:0.52654\n",
      "[76]\tvalidation_0-auc:0.52507\n",
      "[77]\tvalidation_0-auc:0.52425\n",
      "[78]\tvalidation_0-auc:0.52518\n",
      "[79]\tvalidation_0-auc:0.52932\n",
      "[80]\tvalidation_0-auc:0.52943\n",
      "[81]\tvalidation_0-auc:0.52883\n",
      "[82]\tvalidation_0-auc:0.52829\n",
      "[83]\tvalidation_0-auc:0.52502\n",
      "[84]\tvalidation_0-auc:0.52327\n",
      "[85]\tvalidation_0-auc:0.52235\n",
      "[86]\tvalidation_0-auc:0.52327\n",
      "[87]\tvalidation_0-auc:0.52191\n",
      "[88]\tvalidation_0-auc:0.52322\n",
      "[89]\tvalidation_0-auc:0.52671\n",
      "[90]\tvalidation_0-auc:0.52567\n",
      "[91]\tvalidation_0-auc:0.52365\n",
      "[92]\tvalidation_0-auc:0.52333\n",
      "[93]\tvalidation_0-auc:0.52240\n",
      "[94]\tvalidation_0-auc:0.52251\n",
      "[95]\tvalidation_0-auc:0.52224\n",
      "[96]\tvalidation_0-auc:0.52120\n",
      "[97]\tvalidation_0-auc:0.52191\n",
      "[98]\tvalidation_0-auc:0.52104\n",
      "[99]\tvalidation_0-auc:0.52207\n"
     ]
    }
   ],
   "source": [
    "final_cl = xgb.XGBClassifier(\n",
    "    objective=\"binary:logistic\"\n",
    "    )\n",
    "\n",
    "from sklearn.metrics import roc_auc_score\n",
    "\n",
    "final_cl.fit(\n",
    "    X_train, \n",
    "    y_train, \n",
    "    eval_set=[(X_test,y_test)],\n",
    "    eval_metric='auc', \n",
    "    verbose = True\n",
    "    )\n",
    "\n",
    "preds = final_cl.predict(X_test)"
   ]
  },
  {
   "cell_type": "code",
   "execution_count": 16,
   "metadata": {},
   "outputs": [
    {
     "data": {
      "text/plain": [
       "array([[76, 63],\n",
       "       [59, 73]], dtype=int64)"
      ]
     },
     "execution_count": 16,
     "metadata": {},
     "output_type": "execute_result"
    }
   ],
   "source": [
    "from sklearn.metrics import confusion_matrix\n",
    "y_true = np.array([x[0] for x in y_test])\n",
    "y_pred = preds\n",
    "confusion_matrix(y_true, y_pred)"
   ]
  },
  {
   "cell_type": "code",
   "execution_count": 17,
   "metadata": {},
   "outputs": [
    {
     "data": {
      "text/plain": [
       "0.5498154981549815"
      ]
     },
     "execution_count": 17,
     "metadata": {},
     "output_type": "execute_result"
    }
   ],
   "source": [
    "accuracy_score(y_true,y_pred)"
   ]
  },
  {
   "cell_type": "code",
   "execution_count": 19,
   "metadata": {},
   "outputs": [
    {
     "data": {
      "text/plain": [
       "[<matplotlib.lines.Line2D at 0x1df93c42ec0>]"
      ]
     },
     "execution_count": 19,
     "metadata": {},
     "output_type": "execute_result"
    },
    {
     "data": {
      "image/png": "[encoded data removed]",
      "text/plain": [
       "<Figure size 640x480 with 1 Axes>"
      ]
     },
     "metadata": {},
     "output_type": "display_data"
    }
   ],
   "source": [
    "\n",
    "from matplotlib import pyplot as plt\n",
    "pred_probs = final_cl.predict_proba(X_test)\n",
    "conf = [0.5 - x[0] if x[0] < 0.5 else x[0] for x in pred_probs]\n",
    "x = pd.DataFrame({\n",
    "    'conf':conf,\n",
    "    'pred':preds,\n",
    "    'true':y_true\n",
    "}).sort_values(['conf'],ascending=False)\n",
    "x['correct'] = x.apply(lambda s : 1 if s['pred'] == s['true'] else 0, axis=1)\n",
    "\n",
    "x['total_correct'] = x['correct'].cumsum()\n",
    "n = np.array(range(len(x))) + 1\n",
    "x['n'] = n\n",
    "x['hr'] = x['total_correct'] / x['n']\n",
    "\n",
    "plt.plot(x['conf'],x['hr'])"
   ]
  },
  {
   "cell_type": "code",
   "execution_count": 20,
   "metadata": {},
   "outputs": [
    {
     "data": {
      "image/png": "[encoded data removed]",
      "text/plain": [
       "<Figure size 640x480 with 1 Axes>"
      ]
     },
     "metadata": {},
     "output_type": "display_data"
    }
   ],
   "source": [
    "from xgboost import plot_importance\n",
    "\n",
    "plot_importance(final_cl)\n",
    "plt.show()"
   ]
  },
  {
   "cell_type": "code",
   "execution_count": 21,
   "metadata": {},
   "outputs": [
    {
     "data": {
      "text/plain": [
       "['off_elo_TE_rec_x',\n",
       " 'off_elo_QB_rush_x',\n",
       " 'off_elo_WR_rec_y',\n",
       " 'def_elo_RB_rush_y',\n",
       " 'def_elo_QB_rush_y',\n",
       " 'off_elo_QB_rush_y',\n",
       " 'off_elo_RB_rec_x',\n",
       " 'def_elo_WR_rec_x',\n",
       " 'def_elo_TE_rec_y',\n",
       " 'def_elo_WR_rec_y',\n",
       " 'def_elo_QB_pass_x',\n",
       " 'def_elo_RB_rec_y',\n",
       " 'def_elo_QB_pass_y',\n",
       " 'off_elo_RB_rush_x',\n",
       " 'def_elo_QB_rush_x',\n",
       " 'def_elo_RB_rec_x',\n",
       " 'off_elo_TE_rec_y',\n",
       " 'def_elo_RB_rush_x',\n",
       " 'spread_line',\n",
       " 'off_elo_WR_rec_x']"
      ]
     },
     "execution_count": 21,
     "metadata": {},
     "output_type": "execute_result"
    }
   ],
   "source": [
    "f_to_imp = {i:final_cl.feature_importances_[i] for i in range(len(final_cl.feature_importances_))}\n",
    "s = sorted(f_to_imp.items(), key=lambda x:x[1], reverse=True)\n",
    "\n",
    "top_n = 20\n",
    "\n",
    "ids = [x[0] for x in list(s)[:top_n]]\n",
    "list(map(PREDICTORS.__getitem__, ids))"
   ]
  },
  {
   "attachments": {},
   "cell_type": "markdown",
   "metadata": {},
   "source": [
    "# Other Model Approaches"
   ]
  },
  {
   "attachments": {},
   "cell_type": "markdown",
   "metadata": {},
   "source": [
    "### 1. Outputting distribution of possible spreads"
   ]
  },
  {
   "cell_type": "code",
   "execution_count": 22,
   "metadata": {},
   "outputs": [],
   "source": [
    "final_model_data = pbp_api_data[['game_id','season','week','home_team','away_team','home_score',\n",
    "                                 'away_score']]\\\n",
    "    .drop_duplicates().merge(\n",
    "        model_df,\n",
    "        how = 'left'\n",
    "    )\n",
    "final_model_data['home_cover'] = final_model_data.apply(lambda x: 1 if x['home_score'] - \\\n",
    "                                                                  x['away_score'] < \\\n",
    "                                                                  x['spread_line'] else 0,\n",
    "                                                         axis = 1)"
   ]
  },
  {
   "cell_type": "code",
   "execution_count": 68,
   "metadata": {},
   "outputs": [
    {
     "name": "stderr",
     "output_type": "stream",
     "text": [
      " 31%|███       | 9/29 [00:00<00:00, 25.82it/s]"
     ]
    },
    {
     "name": "stdout",
     "output_type": "stream",
     "text": [
      "CategoricalNB model failed to execute\n",
      "Negative values in data passed to CategoricalNB (input X)\n"
     ]
    },
    {
     "name": "stderr",
     "output_type": "stream",
     "text": [
      " 90%|████████▉ | 26/29 [00:01<00:00, 15.67it/s]"
     ]
    },
    {
     "name": "stdout",
     "output_type": "stream",
     "text": [
      "StackingClassifier model failed to execute\n",
      "StackingClassifier.__init__() missing 1 required positional argument: 'estimators'\n"
     ]
    },
    {
     "name": "stderr",
     "output_type": "stream",
     "text": [
      "100%|██████████| 29/29 [00:01<00:00, 15.99it/s]\n"
     ]
    }
   ],
   "source": [
    "from lazypredict.Supervised import LazyRegressor, LazyClassifier\n",
    "cls= LazyClassifier(ignore_warnings=False, custom_metric=None)\n",
    "models, predictions = cls.fit(X_train, X_test, y_train, y_test)"
   ]
  },
  {
   "cell_type": "code",
   "execution_count": 109,
   "metadata": {},
   "outputs": [
    {
     "data": {
      "text/html": [
       "<div>\n",
       "<style scoped>\n",
       "    .dataframe tbody tr th:only-of-type {\n",
       "        vertical-align: middle;\n",
       "    }\n",
       "\n",
       "    .dataframe tbody tr th {\n",
       "        vertical-align: top;\n",
       "    }\n",
       "\n",
       "    .dataframe thead th {\n",
       "        text-align: right;\n",
       "    }\n",
       "</style>\n",
       "<table border=\"1\" class=\"dataframe\">\n",
       "  <thead>\n",
       "    <tr style=\"text-align: right;\">\n",
       "      <th></th>\n",
       "      <th>game_id</th>\n",
       "      <th>season</th>\n",
       "      <th>week</th>\n",
       "      <th>home_team</th>\n",
       "      <th>away_team</th>\n",
       "      <th>home_score</th>\n",
       "      <th>away_score</th>\n",
       "      <th>old_game_id</th>\n",
       "      <th>spread_line</th>\n",
       "      <th>posteam_x</th>\n",
       "      <th>...</th>\n",
       "      <th>def_elo_TE_rec_y</th>\n",
       "      <th>def_elo_WR_rec_y</th>\n",
       "      <th>off_elo_RB_rec_y</th>\n",
       "      <th>off_elo_TE_rec_y</th>\n",
       "      <th>off_elo_WR_rec_y</th>\n",
       "      <th>def_elo_QB_rush_y</th>\n",
       "      <th>def_elo_RB_rush_y</th>\n",
       "      <th>off_elo_QB_rush_y</th>\n",
       "      <th>off_elo_RB_rush_y</th>\n",
       "      <th>home_cover</th>\n",
       "    </tr>\n",
       "  </thead>\n",
       "  <tbody>\n",
       "    <tr>\n",
       "      <th>260</th>\n",
       "      <td>2011_01_ATL_CHI</td>\n",
       "      <td>2011</td>\n",
       "      <td>1</td>\n",
       "      <td>CHI</td>\n",
       "      <td>ATL</td>\n",
       "      <td>30</td>\n",
       "      <td>12</td>\n",
       "      <td>2011091105</td>\n",
       "      <td>-1.00</td>\n",
       "      <td>CHI</td>\n",
       "      <td>...</td>\n",
       "      <td>1948.15</td>\n",
       "      <td>1945.74</td>\n",
       "      <td>2004.72</td>\n",
       "      <td>2043.07</td>\n",
       "      <td>2016.14</td>\n",
       "      <td>1949.26</td>\n",
       "      <td>1982.74</td>\n",
       "      <td>1976.08</td>\n",
       "      <td>2008.27</td>\n",
       "      <td>0</td>\n",
       "    </tr>\n",
       "    <tr>\n",
       "      <th>261</th>\n",
       "      <td>2011_01_BUF_KC</td>\n",
       "      <td>2011</td>\n",
       "      <td>1</td>\n",
       "      <td>KC</td>\n",
       "      <td>BUF</td>\n",
       "      <td>7</td>\n",
       "      <td>41</td>\n",
       "      <td>2011091104</td>\n",
       "      <td>3.50</td>\n",
       "      <td>KC</td>\n",
       "      <td>...</td>\n",
       "      <td>1916.98</td>\n",
       "      <td>1896.97</td>\n",
       "      <td>1976.23</td>\n",
       "      <td>1992.16</td>\n",
       "      <td>1988.56</td>\n",
       "      <td>1996.34</td>\n",
       "      <td>2013.53</td>\n",
       "      <td>1989.83</td>\n",
       "      <td>1986.51</td>\n",
       "      <td>1</td>\n",
       "    </tr>\n",
       "    <tr>\n",
       "      <th>262</th>\n",
       "      <td>2011_01_CAR_ARI</td>\n",
       "      <td>2011</td>\n",
       "      <td>1</td>\n",
       "      <td>ARI</td>\n",
       "      <td>CAR</td>\n",
       "      <td>28</td>\n",
       "      <td>21</td>\n",
       "      <td>2011091109</td>\n",
       "      <td>6.50</td>\n",
       "      <td>ARI</td>\n",
       "      <td>...</td>\n",
       "      <td>1993.92</td>\n",
       "      <td>2027.84</td>\n",
       "      <td>1993.06</td>\n",
       "      <td>2008.11</td>\n",
       "      <td>1977.14</td>\n",
       "      <td>1965.33</td>\n",
       "      <td>2042.50</td>\n",
       "      <td>2000.00</td>\n",
       "      <td>1952.55</td>\n",
       "      <td>0</td>\n",
       "    </tr>\n",
       "    <tr>\n",
       "      <th>263</th>\n",
       "      <td>2011_01_CIN_CLE</td>\n",
       "      <td>2011</td>\n",
       "      <td>1</td>\n",
       "      <td>CLE</td>\n",
       "      <td>CIN</td>\n",
       "      <td>17</td>\n",
       "      <td>27</td>\n",
       "      <td>2011091101</td>\n",
       "      <td>6.50</td>\n",
       "      <td>CLE</td>\n",
       "      <td>...</td>\n",
       "      <td>1982.45</td>\n",
       "      <td>2049.55</td>\n",
       "      <td>1998.39</td>\n",
       "      <td>1967.21</td>\n",
       "      <td>2011.55</td>\n",
       "      <td>NaN</td>\n",
       "      <td>2045.85</td>\n",
       "      <td>NaN</td>\n",
       "      <td>2030.90</td>\n",
       "      <td>1</td>\n",
       "    </tr>\n",
       "    <tr>\n",
       "      <th>264</th>\n",
       "      <td>2011_01_DAL_NYJ</td>\n",
       "      <td>2011</td>\n",
       "      <td>1</td>\n",
       "      <td>NYJ</td>\n",
       "      <td>DAL</td>\n",
       "      <td>27</td>\n",
       "      <td>24</td>\n",
       "      <td>2011091112</td>\n",
       "      <td>6.50</td>\n",
       "      <td>NYJ</td>\n",
       "      <td>...</td>\n",
       "      <td>1989.15</td>\n",
       "      <td>2008.80</td>\n",
       "      <td>2001.38</td>\n",
       "      <td>2045.48</td>\n",
       "      <td>2009.99</td>\n",
       "      <td>1970.71</td>\n",
       "      <td>1898.00</td>\n",
       "      <td>2018.70</td>\n",
       "      <td>2000.12</td>\n",
       "      <td>1</td>\n",
       "    </tr>\n",
       "    <tr>\n",
       "      <th>...</th>\n",
       "      <td>...</td>\n",
       "      <td>...</td>\n",
       "      <td>...</td>\n",
       "      <td>...</td>\n",
       "      <td>...</td>\n",
       "      <td>...</td>\n",
       "      <td>...</td>\n",
       "      <td>...</td>\n",
       "      <td>...</td>\n",
       "      <td>...</td>\n",
       "      <td>...</td>\n",
       "      <td>...</td>\n",
       "      <td>...</td>\n",
       "      <td>...</td>\n",
       "      <td>...</td>\n",
       "      <td>...</td>\n",
       "      <td>...</td>\n",
       "      <td>...</td>\n",
       "      <td>...</td>\n",
       "      <td>...</td>\n",
       "      <td>...</td>\n",
       "    </tr>\n",
       "    <tr>\n",
       "      <th>3145</th>\n",
       "      <td>2022_01_NYG_TEN</td>\n",
       "      <td>2022</td>\n",
       "      <td>1</td>\n",
       "      <td>TEN</td>\n",
       "      <td>NYG</td>\n",
       "      <td>20</td>\n",
       "      <td>21</td>\n",
       "      <td>2022091108</td>\n",
       "      <td>5.50</td>\n",
       "      <td>TEN</td>\n",
       "      <td>...</td>\n",
       "      <td>1956.59</td>\n",
       "      <td>1974.50</td>\n",
       "      <td>1986.34</td>\n",
       "      <td>1981.40</td>\n",
       "      <td>2000.28</td>\n",
       "      <td>1940.91</td>\n",
       "      <td>2018.69</td>\n",
       "      <td>2001.21</td>\n",
       "      <td>1969.46</td>\n",
       "      <td>1</td>\n",
       "    </tr>\n",
       "    <tr>\n",
       "      <th>3146</th>\n",
       "      <td>2022_01_PHI_DET</td>\n",
       "      <td>2022</td>\n",
       "      <td>1</td>\n",
       "      <td>DET</td>\n",
       "      <td>PHI</td>\n",
       "      <td>35</td>\n",
       "      <td>38</td>\n",
       "      <td>2022091104</td>\n",
       "      <td>-6.00</td>\n",
       "      <td>DET</td>\n",
       "      <td>...</td>\n",
       "      <td>2128.50</td>\n",
       "      <td>2073.91</td>\n",
       "      <td>1977.62</td>\n",
       "      <td>2058.30</td>\n",
       "      <td>2015.86</td>\n",
       "      <td>1957.98</td>\n",
       "      <td>2115.40</td>\n",
       "      <td>2094.31</td>\n",
       "      <td>2025.70</td>\n",
       "      <td>0</td>\n",
       "    </tr>\n",
       "    <tr>\n",
       "      <th>3147</th>\n",
       "      <td>2022_01_PIT_CIN</td>\n",
       "      <td>2022</td>\n",
       "      <td>1</td>\n",
       "      <td>CIN</td>\n",
       "      <td>PIT</td>\n",
       "      <td>20</td>\n",
       "      <td>23</td>\n",
       "      <td>2022091103</td>\n",
       "      <td>7.50</td>\n",
       "      <td>CIN</td>\n",
       "      <td>...</td>\n",
       "      <td>2034.93</td>\n",
       "      <td>1996.58</td>\n",
       "      <td>1987.78</td>\n",
       "      <td>2007.46</td>\n",
       "      <td>1999.58</td>\n",
       "      <td>1979.78</td>\n",
       "      <td>2042.33</td>\n",
       "      <td>2007.90</td>\n",
       "      <td>1988.52</td>\n",
       "      <td>1</td>\n",
       "    </tr>\n",
       "    <tr>\n",
       "      <th>3148</th>\n",
       "      <td>2022_01_SF_CHI</td>\n",
       "      <td>2022</td>\n",
       "      <td>1</td>\n",
       "      <td>CHI</td>\n",
       "      <td>SF</td>\n",
       "      <td>19</td>\n",
       "      <td>10</td>\n",
       "      <td>2022091102</td>\n",
       "      <td>-6.50</td>\n",
       "      <td>CHI</td>\n",
       "      <td>...</td>\n",
       "      <td>1976.92</td>\n",
       "      <td>1986.74</td>\n",
       "      <td>2011.09</td>\n",
       "      <td>2004.47</td>\n",
       "      <td>2046.36</td>\n",
       "      <td>1974.25</td>\n",
       "      <td>2046.92</td>\n",
       "      <td>1984.88</td>\n",
       "      <td>1966.21</td>\n",
       "      <td>0</td>\n",
       "    </tr>\n",
       "    <tr>\n",
       "      <th>3149</th>\n",
       "      <td>2022_01_TB_DAL</td>\n",
       "      <td>2022</td>\n",
       "      <td>1</td>\n",
       "      <td>DAL</td>\n",
       "      <td>TB</td>\n",
       "      <td>3</td>\n",
       "      <td>19</td>\n",
       "      <td>2022091113</td>\n",
       "      <td>-2.50</td>\n",
       "      <td>DAL</td>\n",
       "      <td>...</td>\n",
       "      <td>1923.82</td>\n",
       "      <td>1860.90</td>\n",
       "      <td>1992.09</td>\n",
       "      <td>1991.94</td>\n",
       "      <td>2060.54</td>\n",
       "      <td>NaN</td>\n",
       "      <td>2037.53</td>\n",
       "      <td>NaN</td>\n",
       "      <td>2021.97</td>\n",
       "      <td>1</td>\n",
       "    </tr>\n",
       "  </tbody>\n",
       "</table>\n",
       "<p>191 rows × 38 columns</p>\n",
       "</div>"
      ],
      "text/plain": [
       "              game_id  season  week home_team away_team  home_score   \n",
       "260   2011_01_ATL_CHI    2011     1       CHI       ATL          30  \\\n",
       "261    2011_01_BUF_KC    2011     1        KC       BUF           7   \n",
       "262   2011_01_CAR_ARI    2011     1       ARI       CAR          28   \n",
       "263   2011_01_CIN_CLE    2011     1       CLE       CIN          17   \n",
       "264   2011_01_DAL_NYJ    2011     1       NYJ       DAL          27   \n",
       "...               ...     ...   ...       ...       ...         ...   \n",
       "3145  2022_01_NYG_TEN    2022     1       TEN       NYG          20   \n",
       "3146  2022_01_PHI_DET    2022     1       DET       PHI          35   \n",
       "3147  2022_01_PIT_CIN    2022     1       CIN       PIT          20   \n",
       "3148   2022_01_SF_CHI    2022     1       CHI        SF          19   \n",
       "3149   2022_01_TB_DAL    2022     1       DAL        TB           3   \n",
       "\n",
       "      away_score old_game_id  spread_line posteam_x  ... def_elo_TE_rec_y   \n",
       "260           12  2011091105        -1.00       CHI  ...          1948.15  \\\n",
       "261           41  2011091104         3.50        KC  ...          1916.98   \n",
       "262           21  2011091109         6.50       ARI  ...          1993.92   \n",
       "263           27  2011091101         6.50       CLE  ...          1982.45   \n",
       "264           24  2011091112         6.50       NYJ  ...          1989.15   \n",
       "...          ...         ...          ...       ...  ...              ...   \n",
       "3145          21  2022091108         5.50       TEN  ...          1956.59   \n",
       "3146          38  2022091104        -6.00       DET  ...          2128.50   \n",
       "3147          23  2022091103         7.50       CIN  ...          2034.93   \n",
       "3148          10  2022091102        -6.50       CHI  ...          1976.92   \n",
       "3149          19  2022091113        -2.50       DAL  ...          1923.82   \n",
       "\n",
       "     def_elo_WR_rec_y off_elo_RB_rec_y off_elo_TE_rec_y off_elo_WR_rec_y   \n",
       "260           1945.74          2004.72          2043.07          2016.14  \\\n",
       "261           1896.97          1976.23          1992.16          1988.56   \n",
       "262           2027.84          1993.06          2008.11          1977.14   \n",
       "263           2049.55          1998.39          1967.21          2011.55   \n",
       "264           2008.80          2001.38          2045.48          2009.99   \n",
       "...               ...              ...              ...              ...   \n",
       "3145          1974.50          1986.34          1981.40          2000.28   \n",
       "3146          2073.91          1977.62          2058.30          2015.86   \n",
       "3147          1996.58          1987.78          2007.46          1999.58   \n",
       "3148          1986.74          2011.09          2004.47          2046.36   \n",
       "3149          1860.90          1992.09          1991.94          2060.54   \n",
       "\n",
       "     def_elo_QB_rush_y def_elo_RB_rush_y off_elo_QB_rush_y off_elo_RB_rush_y   \n",
       "260            1949.26           1982.74           1976.08           2008.27  \\\n",
       "261            1996.34           2013.53           1989.83           1986.51   \n",
       "262            1965.33           2042.50           2000.00           1952.55   \n",
       "263                NaN           2045.85               NaN           2030.90   \n",
       "264            1970.71           1898.00           2018.70           2000.12   \n",
       "...                ...               ...               ...               ...   \n",
       "3145           1940.91           2018.69           2001.21           1969.46   \n",
       "3146           1957.98           2115.40           2094.31           2025.70   \n",
       "3147           1979.78           2042.33           2007.90           1988.52   \n",
       "3148           1974.25           2046.92           1984.88           1966.21   \n",
       "3149               NaN           2037.53               NaN           2021.97   \n",
       "\n",
       "     home_cover  \n",
       "260           0  \n",
       "261           1  \n",
       "262           0  \n",
       "263           1  \n",
       "264           1  \n",
       "...         ...  \n",
       "3145          1  \n",
       "3146          0  \n",
       "3147          1  \n",
       "3148          0  \n",
       "3149          1  \n",
       "\n",
       "[191 rows x 38 columns]"
      ]
     },
     "execution_count": 109,
     "metadata": {},
     "output_type": "execute_result"
    }
   ],
   "source": [
    "final_model_data[(final_model_data['week']==1) & (final_model_data['season']!=2010)]"
   ]
  },
  {
   "cell_type": "code",
   "execution_count": 73,
   "metadata": {},
   "outputs": [
    {
     "data": {
      "text/html": [
       "<style>#sk-container-id-1 {color: black;background-color: white;}#sk-container-id-1 pre{padding: 0;}#sk-container-id-1 div.sk-toggleable {background-color: white;}#sk-container-id-1 label.sk-toggleable__label {cursor: pointer;display: block;width: 100%;margin-bottom: 0;padding: 0.3em;box-sizing: border-box;text-align: center;}#sk-container-id-1 label.sk-toggleable__label-arrow:before {content: \"▸\";float: left;margin-right: 0.25em;color: #696969;}#sk-container-id-1 label.sk-toggleable__label-arrow:hover:before {color: black;}#sk-container-id-1 div.sk-estimator:hover label.sk-toggleable__label-arrow:before {color: black;}#sk-container-id-1 div.sk-toggleable__content {max-height: 0;max-width: 0;overflow: hidden;text-align: left;background-color: #f0f8ff;}#sk-container-id-1 div.sk-toggleable__content pre {margin: 0.2em;color: black;border-radius: 0.25em;background-color: #f0f8ff;}#sk-container-id-1 input.sk-toggleable__control:checked~div.sk-toggleable__content {max-height: 200px;max-width: 100%;overflow: auto;}#sk-container-id-1 input.sk-toggleable__control:checked~label.sk-toggleable__label-arrow:before {content: \"▾\";}#sk-container-id-1 div.sk-estimator input.sk-toggleable__control:checked~label.sk-toggleable__label {background-color: #d4ebff;}#sk-container-id-1 div.sk-label input.sk-toggleable__control:checked~label.sk-toggleable__label {background-color: #d4ebff;}#sk-container-id-1 input.sk-hidden--visually {border: 0;clip: rect(1px 1px 1px 1px);clip: rect(1px, 1px, 1px, 1px);height: 1px;margin: -1px;overflow: hidden;padding: 0;position: absolute;width: 1px;}#sk-container-id-1 div.sk-estimator {font-family: monospace;background-color: #f0f8ff;border: 1px dotted black;border-radius: 0.25em;box-sizing: border-box;margin-bottom: 0.5em;}#sk-container-id-1 div.sk-estimator:hover {background-color: #d4ebff;}#sk-container-id-1 div.sk-parallel-item::after {content: \"\";width: 100%;border-bottom: 1px solid gray;flex-grow: 1;}#sk-container-id-1 div.sk-label:hover label.sk-toggleable__label {background-color: #d4ebff;}#sk-container-id-1 div.sk-serial::before {content: \"\";position: absolute;border-left: 1px solid gray;box-sizing: border-box;top: 0;bottom: 0;left: 50%;z-index: 0;}#sk-container-id-1 div.sk-serial {display: flex;flex-direction: column;align-items: center;background-color: white;padding-right: 0.2em;padding-left: 0.2em;position: relative;}#sk-container-id-1 div.sk-item {position: relative;z-index: 1;}#sk-container-id-1 div.sk-parallel {display: flex;align-items: stretch;justify-content: center;background-color: white;position: relative;}#sk-container-id-1 div.sk-item::before, #sk-container-id-1 div.sk-parallel-item::before {content: \"\";position: absolute;border-left: 1px solid gray;box-sizing: border-box;top: 0;bottom: 0;left: 50%;z-index: -1;}#sk-container-id-1 div.sk-parallel-item {display: flex;flex-direction: column;z-index: 1;position: relative;background-color: white;}#sk-container-id-1 div.sk-parallel-item:first-child::after {align-self: flex-end;width: 50%;}#sk-container-id-1 div.sk-parallel-item:last-child::after {align-self: flex-start;width: 50%;}#sk-container-id-1 div.sk-parallel-item:only-child::after {width: 0;}#sk-container-id-1 div.sk-dashed-wrapped {border: 1px dashed gray;margin: 0 0.4em 0.5em 0.4em;box-sizing: border-box;padding-bottom: 0.4em;background-color: white;}#sk-container-id-1 div.sk-label label {font-family: monospace;font-weight: bold;display: inline-block;line-height: 1.2em;}#sk-container-id-1 div.sk-label-container {text-align: center;}#sk-container-id-1 div.sk-container {/* jupyter's `normalize.less` sets `[hidden] { display: none; }` but bootstrap.min.css set `[hidden] { display: none !important; }` so we also need the `!important` here to be able to override the default hidden behavior on the sphinx rendered scikit-learn.org. See: https://github.com/scikit-learn/scikit-learn/issues/21755 */display: inline-block !important;position: relative;}#sk-container-id-1 div.sk-text-repr-fallback {display: none;}</style><div id=\"sk-container-id-1\" class=\"sk-top-container\"><div class=\"sk-text-repr-fallback\"><pre>PassiveAggressiveClassifier(random_state=0)</pre><b>In a Jupyter environment, please rerun this cell to show the HTML representation or trust the notebook. <br />On GitHub, the HTML representation is unable to render, please try loading this page with nbviewer.org.</b></div><div class=\"sk-container\" hidden><div class=\"sk-item\"><div class=\"sk-estimator sk-toggleable\"><input class=\"sk-toggleable__control sk-hidden--visually\" id=\"sk-estimator-id-1\" type=\"checkbox\" checked><label for=\"sk-estimator-id-1\" class=\"sk-toggleable__label sk-toggleable__label-arrow\">PassiveAggressiveClassifier</label><div class=\"sk-toggleable__content\"><pre>PassiveAggressiveClassifier(random_state=0)</pre></div></div></div></div></div>"
      ],
      "text/plain": [
       "PassiveAggressiveClassifier(random_state=0)"
      ]
     },
     "execution_count": 73,
     "metadata": {},
     "output_type": "execute_result"
    }
   ],
   "source": [
    "from sklearn.linear_model import PassiveAggressiveClassifier\n",
    "clf = PassiveAggressiveClassifier(max_iter=1000, random_state=0,\n",
    "                                  tol=1e-3)\n",
    "clf.fit(X_train, y_train)"
   ]
  },
  {
   "cell_type": "code",
   "execution_count": 102,
   "metadata": {},
   "outputs": [
    {
     "data": {
      "text/plain": [
       "0.47601476014760147"
      ]
     },
     "execution_count": 102,
     "metadata": {},
     "output_type": "execute_result"
    }
   ],
   "source": [
    "x = clf.predict(X_test)\n",
    "y = [y[0] for y in y_test]\n",
    "res = [1 if x[i]==y[i] else 0 for i in range(len(x))]\n",
    "sum(res) / len(res)"
   ]
  }
 ],
 "metadata": {
  "kernelspec": {
   "display_name": ".venv",
   "language": "python",
   "name": "python3"
  },
  "language_info": {
   "codemirror_mode": {
    "name": "ipython",
    "version": 3
   },
   "file_extension": ".py",
   "mimetype": "text/x-python",
   "name": "python",
   "nbconvert_exporter": "python",
   "pygments_lexer": "ipython3",
   "version": "3.10.11"
  },
  "orig_nbformat": 4
 },
 "nbformat": 4,
 "nbformat_minor": 2
}
